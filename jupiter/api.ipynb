{
 "cells": [
  {
   "cell_type": "code",
   "execution_count": 2,
   "metadata": {},
   "outputs": [
    {
     "name": "stdout",
     "output_type": "stream",
     "text": [
      "Requirement already satisfied: requests in e:\\env python\\santader - code\\santander\\lib\\site-packages (2.28.1)\n",
      "Requirement already satisfied: charset-normalizer<3,>=2 in e:\\env python\\santader - code\\santander\\lib\\site-packages (from requests) (2.1.1)\n",
      "Requirement already satisfied: certifi>=2017.4.17 in e:\\env python\\santader - code\\santander\\lib\\site-packages (from requests) (2022.9.14)\n",
      "Requirement already satisfied: urllib3<1.27,>=1.21.1 in e:\\env python\\santader - code\\santander\\lib\\site-packages (from requests) (1.26.12)\n",
      "Requirement already satisfied: idna<4,>=2.5 in e:\\env python\\santader - code\\santander\\lib\\site-packages (from requests) (3.4)\n"
     ]
    }
   ],
   "source": [
    "!pip install requests"
   ]
  },
  {
   "cell_type": "code",
   "execution_count": 5,
   "metadata": {},
   "outputs": [],
   "source": [
    "import requests"
   ]
  },
  {
   "cell_type": "code",
   "execution_count": 11,
   "metadata": {},
   "outputs": [
    {
     "name": "stdout",
     "output_type": "stream",
     "text": [
      "200\n"
     ]
    }
   ],
   "source": [
    "from cgitb import reset\n",
    "\n",
    "\n",
    "url = \"https://v6.exchangerate-api.com/v6/**/latest/USD\"\n",
    "\n",
    "req = requests.get(url)\n",
    "\n",
    "print(req.status_code)"
   ]
  },
  {
   "cell_type": "code",
   "execution_count": 12,
   "metadata": {},
   "outputs": [
    {
     "name": "stdout",
     "output_type": "stream",
     "text": [
      "{'result': 'success', 'documentation': 'https://www.exchangerate-api.com/docs', 'terms_of_use': 'https://www.exchangerate-api.com/terms', 'time_last_update_unix': 1663459202, 'time_last_update_utc': 'Sun, 18 Sep 2022 00:00:02 +0000', 'time_next_update_unix': 1663545602, 'time_next_update_utc': 'Mon, 19 Sep 2022 00:00:02 +0000', 'base_code': 'USD', 'conversion_rates': {'USD': 1, 'AED': 3.6725, 'AFN': 87.9278, 'ALL': 116.8596, 'AMD': 415.5344, 'ANG': 1.79, 'AOA': 427.9381, 'ARS': 142.1749, 'AUD': 1.4913, 'AWG': 1.79, 'AZN': 1.6944, 'BAM': 1.9559, 'BBD': 2.0, 'BDT': 102.9414, 'BGN': 1.9563, 'BHD': 0.376, 'BIF': 2034.3134, 'BMD': 1.0, 'BND': 1.4045, 'BOB': 6.8905, 'BRL': 5.2584, 'BSD': 1.0, 'BTN': 79.7355, 'BWP': 13.1562, 'BYN': 2.643, 'BZD': 2.0, 'CAD': 1.3269, 'CDF': 2010.9284, 'CHF': 0.964, 'CLP': 923.4059, 'CNY': 7.0094, 'COP': 4386.4582, 'CRC': 634.1324, 'CUP': 24.0, 'CVE': 110.2707, 'CZK': 24.4795, 'DJF': 177.721, 'DKK': 7.4608, 'DOP': 53.2189, 'DZD': 140.6639, 'EGP': 19.3676, 'ERN': 15.0, 'ETB': 52.5958, 'EUR': 1.0001, 'FJD': 2.2391, 'FKP': 0.8775, 'FOK': 7.4608, 'GBP': 0.8776, 'GEL': 2.8223, 'GGP': 0.8775, 'GHS': 10.2872, 'GIP': 0.8775, 'GMD': 55.4131, 'GNF': 8596.1289, 'GTQ': 7.7643, 'GYD': 207.8327, 'HKD': 7.8512, 'HNL': 24.7112, 'HRK': 7.5349, 'HTG': 117.4831, 'HUF': 404.166, 'IDR': 14920.7967, 'ILS': 3.4276, 'IMP': 0.8775, 'INR': 79.7366, 'IQD': 1449.9494, 'IRR': 41953.7074, 'ISK': 138.8537, 'JEP': 0.8775, 'JMD': 151.9917, 'JOD': 0.709, 'JPY': 143.2257, 'KES': 120.4811, 'KGS': 81.6694, 'KHR': 4081.2925, 'KID': 1.4913, 'KMF': 491.9934, 'KRW': 1387.8989, 'KWD': 0.2996, 'KYD': 0.8333, 'KZT': 474.9714, 'LAK': 17899.5616, 'LBP': 1507.5, 'LKR': 359.2278, 'LRD': 153.2153, 'LSL': 17.5918, 'LYD': 4.8911, 'MAD': 10.6999, 'MDL': 19.3479, 'MGA': 4127.5106, 'MKD': 61.7286, 'MMK': 2722.2435, 'MNT': 3219.1265, 'MOP': 8.0867, 'MRU': 37.5479, 'MUR': 44.9864, 'MVR': 15.4015, 'MWK': 1031.9838, 'MXN': 20.0996, 'MYR': 4.5263, 'MZN': 64.6628, 'NAD': 17.5918, 'NGN': 423.2854, 'NIO': 36.0133, 'NOK': 10.2165, 'NPR': 127.5769, 'NZD': 1.6732, 'OMR': 0.3845, 'PAB': 1.0, 'PEN': 3.8745, 'PGK': 3.5072, 'PHP': 57.3168, 'PKR': 233.521, 'PLN': 4.7064, 'PYG': 6922.8093, 'QAR': 3.64, 'RON': 4.9091, 'RSD': 117.2718, 'RUB': 60.0859, 'RWF': 1062.8793, 'SAR': 3.75, 'SBD': 8.0272, 'SCR': 13.0213, 'SDG': 565.5387, 'SEK': 10.7651, 'SGD': 1.4045, 'SHP': 0.8775, 'SLE': 14.3532, 'SLL': 14353.1693, 'SOS': 564.7318, 'SRD': 26.8353, 'SSP': 645.4549, 'STN': 24.5013, 'SYP': 2485.1704, 'SZL': 17.5918, 'THB': 37.0116, 'TJS': 10.2259, 'TMT': 3.4982, 'TND': 2.9212, 'TOP': 2.3652, 'TRY': 18.1749, 'TTD': 6.7574, 'TVD': 1.4913, 'TWD': 31.2222, 'TZS': 2327.7331, 'UAH': 37.2856, 'UGX': 3809.5153, 'UYU': 40.6185, 'UZS': 10936.6369, 'VES': 8.0508, 'VND': 23634.7411, 'VUV': 117.069, 'WST': 2.6661, 'XAF': 655.9912, 'XCD': 2.7, 'XDR': 0.7741, 'XOF': 655.9912, 'XPF': 119.3382, 'YER': 249.1095, 'ZAR': 17.592, 'ZMW': 15.5993, 'ZWL': 603.989}}\n"
     ]
    }
   ],
   "source": [
    "dados = req.json()\n",
    "\n",
    "print(dados)"
   ]
  },
  {
   "cell_type": "code",
   "execution_count": 14,
   "metadata": {},
   "outputs": [
    {
     "name": "stdout",
     "output_type": "stream",
     "text": [
      "R$100.0 em dolar valem US$ 19.02\n"
     ]
    }
   ],
   "source": [
    "valor_reais = float(input(\"Informe o vlaor em R$ a ser convertido\\n\"))\n",
    "\n",
    "cotacao = dados['conversion_rates']['BRL']\n",
    "print(f'R${valor_reais} em dolar valem US$ {(valor_reais / cotacao):.2f}')"
   ]
  }
 ],
 "metadata": {
  "kernelspec": {
   "display_name": "Python 3.10.7 ('santander': venv)",
   "language": "python",
   "name": "python3"
  },
  "language_info": {
   "codemirror_mode": {
    "name": "ipython",
    "version": 3
   },
   "file_extension": ".py",
   "mimetype": "text/x-python",
   "name": "python",
   "nbconvert_exporter": "python",
   "pygments_lexer": "ipython3",
   "version": "3.10.7"
  },
  "orig_nbformat": 4,
  "vscode": {
   "interpreter": {
    "hash": "02680bdeafda58f4df404d77430d801f3e07a73556009c29ab5318ed464b1cb4"
   }
  }
 },
 "nbformat": 4,
 "nbformat_minor": 2
}
